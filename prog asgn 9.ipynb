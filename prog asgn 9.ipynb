{
 "cells": [
  {
   "cell_type": "code",
   "execution_count": null,
   "metadata": {},
   "outputs": [],
   "source": [
    "'''\n",
    "1. Write a Python program to check if the given number is a Disarium Number?\n",
    "2. Write a Python program to print all disarium numbers between 1 to 100?\n",
    "3. Write a Python program to check if the given number is Happy Number?\n",
    "4. Write a Python program to print all happy numbers between 1 and 100?\n",
    "5. Write a Python program to determine whether the given number is a Harshad Number?\n",
    "6. Write a Python program to print all pronic numbers between 1 and 100?\n",
    "\n",
    "'''"
   ]
  },
  {
   "cell_type": "markdown",
   "metadata": {},
   "source": [
    "### 1. Write a Python program to check if the given number is a Disarium Number?"
   ]
  },
  {
   "cell_type": "code",
   "execution_count": 13,
   "metadata": {},
   "outputs": [
    {
     "name": "stdout",
     "output_type": "stream",
     "text": [
      "enter the number : 135\n",
      "135  is a disarium number \n"
     ]
    }
   ],
   "source": [
    "\n",
    "def disar(num):\n",
    "    result=0\n",
    "    d=[]\n",
    "    temp=num\n",
    "    for i in range(len(str(num))):\n",
    "        d.append(i)\n",
    "    l=len(d)\n",
    "    while num!=0:\n",
    "        rem=num%10\n",
    "        result+=pow(rem,l)\n",
    "        l-=1\n",
    "        num=num//10\n",
    "    if temp == result:\n",
    "        print(temp , \" is a disarium number \")\n",
    "    else:\n",
    "        print(temp,\" is not a disarium number\")\n",
    "\n",
    "num = int(input(\"enter the number : \"))\n",
    "disar(num)\n",
    "    \n",
    "\n",
    "    "
   ]
  },
  {
   "cell_type": "code",
   "execution_count": 14,
   "metadata": {},
   "outputs": [
    {
     "name": "stdout",
     "output_type": "stream",
     "text": [
      "80  is not a disarium number\n"
     ]
    }
   ],
   "source": [
    "disar(80)"
   ]
  },
  {
   "cell_type": "markdown",
   "metadata": {},
   "source": [
    "## 2. Write a Python program to print all disarium numbers between 1 to 100?"
   ]
  },
  {
   "cell_type": "code",
   "execution_count": 31,
   "metadata": {},
   "outputs": [
    {
     "name": "stdout",
     "output_type": "stream",
     "text": [
      "1  is a disarium number \n",
      "2  is a disarium number \n",
      "3  is a disarium number \n",
      "4  is a disarium number \n",
      "5  is a disarium number \n",
      "6  is a disarium number \n",
      "7  is a disarium number \n",
      "8  is a disarium number \n",
      "9  is a disarium number \n",
      "89  is a disarium number \n"
     ]
    }
   ],
   "source": [
    "def disar(num):\n",
    "    result=0\n",
    "    d=[]\n",
    "\n",
    "    temp=num\n",
    "    for i in range(len(str(num))):\n",
    "        d.append(i)\n",
    "    l=len(d)\n",
    "    while num!=0:\n",
    "        rem=num%10\n",
    "        result+=pow(rem,l)\n",
    "        l-=1\n",
    "        num=num//10\n",
    "    if temp == result:\n",
    "        print(temp , \" is a disarium number \")\n",
    "    else:\n",
    "        pass\n",
    "    \n",
    "    \n",
    "\n",
    "for i in range(1,101):\n",
    "    disar(i)"
   ]
  },
  {
   "cell_type": "markdown",
   "metadata": {},
   "source": [
    "## 3. Write a Python program to check if the given number is Happy Number?"
   ]
  },
  {
   "cell_type": "code",
   "execution_count": 61,
   "metadata": {},
   "outputs": [
    {
     "name": "stdout",
     "output_type": "stream",
     "text": [
      "enter the number : 23\n",
      " a happy  number\n"
     ]
    }
   ],
   "source": [
    "def happy(num):\n",
    "    result=0\n",
    "    temp=num\n",
    "    while num!=0:\n",
    "        rem=num%10\n",
    "        result+=pow(rem,2)\n",
    "        num=num//10\n",
    "    num=result\n",
    "    if result== 1:\n",
    "        print(\" a happy  number\")\n",
    "    elif result==4 :\n",
    "        print(\" not a happy  number\")\n",
    "        \n",
    "    else:\n",
    "        happy(num)\n",
    "        \n",
    "n=int(input(\"enter the number : \"))\n",
    "happy(n)\n",
    "            "
   ]
  },
  {
   "cell_type": "markdown",
   "metadata": {},
   "source": [
    "## 4. Write a Python program to print all happy numbers between 1 and 100?"
   ]
  },
  {
   "cell_type": "code",
   "execution_count": 38,
   "metadata": {},
   "outputs": [
    {
     "name": "stdout",
     "output_type": "stream",
     "text": [
      " happy numbers between 1 and 100 are :  [1, 7, 10, 13, 19, 23, 28, 31, 32, 44, 49, 68, 70, 79, 82, 86, 91, 94, 97, 100]\n"
     ]
    }
   ],
   "source": [
    "def happy1(num):\n",
    "    result=0\n",
    "    while num!=0:\n",
    "        rem=num%10\n",
    "        result+=pow(rem,2)\n",
    "        num=num//10\n",
    "        \n",
    "    return result\n",
    "\n",
    "final=[]\n",
    "for i in range(1,101):    \n",
    "    numb=i\n",
    "    while (numb!=1 and numb!=4):\n",
    "        numb=happy1(numb)\n",
    "    if numb == 1:\n",
    "        final.append(i)\n",
    "    else:\n",
    "        pass\n",
    "print(\" happy numbers between 1 and 100 are : \",final)\n",
    "        \n"
   ]
  },
  {
   "cell_type": "markdown",
   "metadata": {},
   "source": [
    "## 5. Write a Python program to determine whether the given number is a Harshad Number?"
   ]
  },
  {
   "cell_type": "code",
   "execution_count": 20,
   "metadata": {},
   "outputs": [
    {
     "name": "stdout",
     "output_type": "stream",
     "text": [
      "entre the number : 18\n",
      "it is a harshad number\n"
     ]
    }
   ],
   "source": [
    "num = int(input(\"entre the number : \"))\n",
    "final=0\n",
    "temp=num\n",
    "while num!=0:\n",
    "    rem=num%10\n",
    "    final+=rem\n",
    "    num=num//10\n",
    "\n",
    "if temp%final==0:\n",
    "    print(\"it is a harshad number\")\n",
    "else:\n",
    "    print(\"it is not  a harshad number\")\n",
    "    "
   ]
  },
  {
   "cell_type": "markdown",
   "metadata": {},
   "source": [
    "## 6. Write a Python program to print all pronic numbers between 1 and 100?"
   ]
  },
  {
   "cell_type": "code",
   "execution_count": 19,
   "metadata": {},
   "outputs": [
    {
     "name": "stdout",
     "output_type": "stream",
     "text": [
      " pronic numbers between 1 and 100 are :\n",
      "[2, 6, 12, 20, 30, 42, 56, 72, 90]\n"
     ]
    }
   ],
   "source": [
    "pro=[]\n",
    "for i in range(1,100):\n",
    "    k=i*(i+1)    \n",
    "    if k<=100:\n",
    "        pro.append(k)\n",
    "print(\" pronic numbers between 1 and 100 are :\")\n",
    "print(pro)        \n",
    "   "
   ]
  },
  {
   "cell_type": "code",
   "execution_count": null,
   "metadata": {},
   "outputs": [],
   "source": []
  }
 ],
 "metadata": {
  "kernelspec": {
   "display_name": "Python [conda env:new_python_3.7]",
   "language": "python",
   "name": "conda-env-new_python_3.7-py"
  },
  "language_info": {
   "codemirror_mode": {
    "name": "ipython",
    "version": 3
   },
   "file_extension": ".py",
   "mimetype": "text/x-python",
   "name": "python",
   "nbconvert_exporter": "python",
   "pygments_lexer": "ipython3",
   "version": "3.7.11"
  }
 },
 "nbformat": 4,
 "nbformat_minor": 2
}
