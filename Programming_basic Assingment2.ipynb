{
 "cells": [
  {
   "cell_type": "markdown",
   "metadata": {},
   "source": [
    "## Programming_basic Assingment2"
   ]
  },
  {
   "cell_type": "code",
   "execution_count": 10,
   "metadata": {},
   "outputs": [
    {
     "name": "stdout",
     "output_type": "stream",
     "text": [
      "enter the km u want to convert to miles---4.5\n",
      "km = 4.5  \n",
      "miles = 2.7961695 \n"
     ]
    }
   ],
   "source": [
    "### 1.\tWrite a Python program to convert kilometers to miles?\n",
    "km = float(input(\"enter the km u want to convert to miles---\"))\n",
    "# 1 km = 0.621371 miles\n",
    "\n",
    "miles = 0.621371*km\n",
    "\n",
    "print(\"km = {}  \\nmiles = {} \".format(km,miles))"
   ]
  },
  {
   "cell_type": "code",
   "execution_count": 11,
   "metadata": {},
   "outputs": [
    {
     "name": "stdout",
     "output_type": "stream",
     "text": [
      "enter the celsius degree28.9\n",
      "celsius = 28.9 \n",
      "Fahrenheit = 84.02 \n"
     ]
    }
   ],
   "source": [
    "### 2.\tWrite a Python program to convert Celsius to Fahrenheit?\n",
    "\n",
    "celsius = float(input(\"enter the celsius degree\"))\n",
    "#0°C × 9/5) + 32 = 32f\n",
    "Fahrenheit = (celsius*9/5)+32\n",
    "print(\"celsius = {} \\nFahrenheit = {} \".format(celsius,Fahrenheit))\n"
   ]
  },
  {
   "cell_type": "code",
   "execution_count": 14,
   "metadata": {},
   "outputs": [
    {
     "name": "stdout",
     "output_type": "stream",
     "text": [
      "                                  2021\n",
      "\n",
      "      January                   February                   March\n",
      "Mo Tu We Th Fr Sa Su      Mo Tu We Th Fr Sa Su      Mo Tu We Th Fr Sa Su\n",
      "             1  2  3       1  2  3  4  5  6  7       1  2  3  4  5  6  7\n",
      " 4  5  6  7  8  9 10       8  9 10 11 12 13 14       8  9 10 11 12 13 14\n",
      "11 12 13 14 15 16 17      15 16 17 18 19 20 21      15 16 17 18 19 20 21\n",
      "18 19 20 21 22 23 24      22 23 24 25 26 27 28      22 23 24 25 26 27 28\n",
      "25 26 27 28 29 30 31                                29 30 31\n",
      "\n",
      "       April                      May                       June\n",
      "Mo Tu We Th Fr Sa Su      Mo Tu We Th Fr Sa Su      Mo Tu We Th Fr Sa Su\n",
      "          1  2  3  4                      1  2          1  2  3  4  5  6\n",
      " 5  6  7  8  9 10 11       3  4  5  6  7  8  9       7  8  9 10 11 12 13\n",
      "12 13 14 15 16 17 18      10 11 12 13 14 15 16      14 15 16 17 18 19 20\n",
      "19 20 21 22 23 24 25      17 18 19 20 21 22 23      21 22 23 24 25 26 27\n",
      "26 27 28 29 30            24 25 26 27 28 29 30      28 29 30\n",
      "                          31\n",
      "\n",
      "        July                     August                  September\n",
      "Mo Tu We Th Fr Sa Su      Mo Tu We Th Fr Sa Su      Mo Tu We Th Fr Sa Su\n",
      "          1  2  3  4                         1             1  2  3  4  5\n",
      " 5  6  7  8  9 10 11       2  3  4  5  6  7  8       6  7  8  9 10 11 12\n",
      "12 13 14 15 16 17 18       9 10 11 12 13 14 15      13 14 15 16 17 18 19\n",
      "19 20 21 22 23 24 25      16 17 18 19 20 21 22      20 21 22 23 24 25 26\n",
      "26 27 28 29 30 31         23 24 25 26 27 28 29      27 28 29 30\n",
      "                          30 31\n",
      "\n",
      "      October                   November                  December\n",
      "Mo Tu We Th Fr Sa Su      Mo Tu We Th Fr Sa Su      Mo Tu We Th Fr Sa Su\n",
      "             1  2  3       1  2  3  4  5  6  7             1  2  3  4  5\n",
      " 4  5  6  7  8  9 10       8  9 10 11 12 13 14       6  7  8  9 10 11 12\n",
      "11 12 13 14 15 16 17      15 16 17 18 19 20 21      13 14 15 16 17 18 19\n",
      "18 19 20 21 22 23 24      22 23 24 25 26 27 28      20 21 22 23 24 25 26\n",
      "25 26 27 28 29 30 31      29 30                     27 28 29 30 31\n",
      "\n"
     ]
    }
   ],
   "source": [
    "## 3.\tWrite a Python program to display calendar?\n",
    "import calendar as c\n",
    "print(c.calendar(2021))"
   ]
  },
  {
   "cell_type": "code",
   "execution_count": 30,
   "metadata": {},
   "outputs": [
    {
     "name": "stdout",
     "output_type": "stream",
     "text": [
      "enter a number1\n",
      "enter a number5\n",
      "enter a number6\n",
      "roots are  -3.0 -2.0\n"
     ]
    }
   ],
   "source": [
    "# 4.\tWrite a Python program to solve quadratic equation?\n",
    "a = int(input(\"enter a number\"))\n",
    "b= int(input(\"enter a number\"))\n",
    "c=int(input(\"enter a number\"))\n",
    "d=((b**2)-(4*a*c))\n",
    "first_root = ((-b)-(d)**0.5)/2*a\n",
    "second_root = ((-b)+(d)**0.5)/2*a\n",
    "print(\"roots are \",first_root, second_root)"
   ]
  },
  {
   "cell_type": "code",
   "execution_count": 31,
   "metadata": {},
   "outputs": [
    {
     "name": "stdout",
     "output_type": "stream",
     "text": [
      "enter a number1\n",
      "enter a number5\n",
      "enter a number6\n",
      "roots are  -3.0 -2.0\n"
     ]
    }
   ],
   "source": [
    "from math import sqrt\n",
    "a = int(input(\"enter a number\"))\n",
    "b= int(input(\"enter a number\"))\n",
    "c=int(input(\"enter a number\"))\n",
    "d=((b**2)-(4*a*c))\n",
    "first_root = ((-b)-sqrt(d))/2*a\n",
    "second_root = ((-b)+sqrt(d))/2*a\n",
    "print(\"roots are \",first_root, second_root)"
   ]
  },
  {
   "cell_type": "code",
   "execution_count": 33,
   "metadata": {},
   "outputs": [
    {
     "name": "stdout",
     "output_type": "stream",
     "text": [
      "enter a number2\n",
      "enter a number10\n",
      "numbers before swapping ...  2 10\n",
      "numbers after swapping ...  10 2\n"
     ]
    }
   ],
   "source": [
    "## 5.\tWrite a Python program to swap two variables without temp variable?\n",
    "s1= int(input(\"enter a number\"))\n",
    "s2=int(input(\"enter a number\"))\n",
    "print(\"numbers before swapping ... \",s1,s2)\n",
    "s1,s2=s2,s1\n",
    "print(\"numbers after swapping ... \",s1,s2)"
   ]
  },
  {
   "cell_type": "code",
   "execution_count": null,
   "metadata": {},
   "outputs": [],
   "source": []
  }
 ],
 "metadata": {
  "kernelspec": {
   "display_name": "Python 3",
   "language": "python",
   "name": "python3"
  },
  "language_info": {
   "codemirror_mode": {
    "name": "ipython",
    "version": 3
   },
   "file_extension": ".py",
   "mimetype": "text/x-python",
   "name": "python",
   "nbconvert_exporter": "python",
   "pygments_lexer": "ipython3",
   "version": "3.7.3"
  }
 },
 "nbformat": 4,
 "nbformat_minor": 2
}
