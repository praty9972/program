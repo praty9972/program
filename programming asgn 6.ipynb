{
 "cells": [
  {
   "cell_type": "code",
   "execution_count": 5,
   "metadata": {},
   "outputs": [
    {
     "name": "stdout",
     "output_type": "stream",
     "text": [
      "enter the number of terms you want to display : 10\n",
      "0\n",
      "1\n",
      "1\n",
      "2\n",
      "3\n",
      "5\n",
      "8\n",
      "13\n",
      "21\n",
      "34\n"
     ]
    }
   ],
   "source": [
    "# 1) 1.\tWrite a Python Program to Display Fibonacci Sequence Using Recursion?\n",
    "\n",
    "def fib(num):\n",
    "    if num<=1:\n",
    "        return num\n",
    "    else:\n",
    "        return(fib(num-1) + fib(num-2))\n",
    "\n",
    "nterms = int(input(\"enter the number of terms you want to display : \"))\n",
    "for i in range(nterms):\n",
    "        print(fib(i))"
   ]
  },
  {
   "cell_type": "code",
   "execution_count": 1,
   "metadata": {},
   "outputs": [
    {
     "name": "stdout",
     "output_type": "stream",
     "text": [
      "enter the number = 5\n",
      "factorial of 5 is 120\n"
     ]
    }
   ],
   "source": [
    "# 2) Write a Python Program to Find Factorial of Number Using Recursion?\n",
    "\n",
    "def fact1(n):\n",
    "    if n==0 :\n",
    "        return 1\n",
    "    else :\n",
    "        k=n*fact1(n-1)        \n",
    "        return k\n",
    "    \n",
    "num=int(input(\"enter the number = \"))   \n",
    "factorial=fact1(num)\n",
    "print(\"factorial of {} is {}\".format(num,factorial))\n"
   ]
  },
  {
   "cell_type": "code",
   "execution_count": 12,
   "metadata": {},
   "outputs": [
    {
     "name": "stdout",
     "output_type": "stream",
     "text": [
      "enter your weight = 68\n",
      "enter your height in meters 1.5727\n",
      "Body mass index of your weight and height is  27.493\n",
      "over weight\n"
     ]
    }
   ],
   "source": [
    "# 3. Write a Python Program to calculate your Body Mass Index?\n",
    "\n",
    "weight = float(input(\"enter your weight = \"))\n",
    "height = float(input(\"enter your height in meters \"))\n",
    "bmi= weight/height**2\n",
    "print(\"Body mass index of your weight and height is \",round(bmi,3))\n",
    "if bmi>25 :\n",
    "    print(\"over weight\")\n",
    "else:\n",
    "    print(\"normal\")"
   ]
  },
  {
   "cell_type": "code",
   "execution_count": 2,
   "metadata": {},
   "outputs": [
    {
     "name": "stdout",
     "output_type": "stream",
     "text": [
      "enter your weight = 65\n"
     ]
    },
    {
     "data": {
      "text/plain": [
       "4.174387269895637"
      ]
     },
     "execution_count": 2,
     "metadata": {},
     "output_type": "execute_result"
    }
   ],
   "source": [
    "#4 Write a Python Program to calculate the natural logarithm of any number?\n",
    "import math\n",
    "n=float(input(\"enter your weight = \"))\n",
    "math.log(n)"
   ]
  },
  {
   "cell_type": "code",
   "execution_count": 22,
   "metadata": {},
   "outputs": [
    {
     "name": "stdout",
     "output_type": "stream",
     "text": [
      "enter the number 5\n",
      "[1, 8, 27, 64, 125]\n",
      "sum of all cubes till 5 is 225\n"
     ]
    }
   ],
   "source": [
    "# 5: Write a Python Program for cube sum of first n natural numbers?\n",
    "\n",
    "def cube(n):\n",
    "    final=[]\n",
    "    for i in range(1,n+1):\n",
    "        final.append(i*i*i)\n",
    "    final_list=final\n",
    "    print(final_list)\n",
    "    return print(\"sum of all cubes till {} is {}\".format(n,sum(final_list)))\n",
    "\n",
    "n=int(input(\"enter the number \"))\n",
    "cube(n)"
   ]
  },
  {
   "cell_type": "code",
   "execution_count": 18,
   "metadata": {},
   "outputs": [
    {
     "name": "stdout",
     "output_type": "stream",
     "text": [
      "11\n"
     ]
    },
    {
     "data": {
      "text/plain": [
       "[0, 1, 1, 2, 3, 5, 8, 13, 21, 34, 55]"
      ]
     },
     "execution_count": 18,
     "metadata": {},
     "output_type": "execute_result"
    }
   ],
   "source": [
    "\n",
    "final=[0,1]\n",
    "\n",
    "add=0\n",
    "for i in range(1,10):\n",
    "    add=final[i]+final[i-1]\n",
    "    final.append(add)\n",
    "print(len(final))\n",
    "final\n",
    "    "
   ]
  },
  {
   "cell_type": "code",
   "execution_count": 6,
   "metadata": {},
   "outputs": [
    {
     "data": {
      "text/plain": [
       "'C:\\\\Users\\\\pc\\\\ 1 python my files\\\\program asignments'"
      ]
     },
     "execution_count": 6,
     "metadata": {},
     "output_type": "execute_result"
    }
   ],
   "source": [
    "pwd()"
   ]
  },
  {
   "cell_type": "code",
   "execution_count": null,
   "metadata": {},
   "outputs": [],
   "source": []
  }
 ],
 "metadata": {
  "kernelspec": {
   "display_name": "Python 3",
   "language": "python",
   "name": "python3"
  },
  "language_info": {
   "codemirror_mode": {
    "name": "ipython",
    "version": 3
   },
   "file_extension": ".py",
   "mimetype": "text/x-python",
   "name": "python",
   "nbconvert_exporter": "python",
   "pygments_lexer": "ipython3",
   "version": "3.7.3"
  }
 },
 "nbformat": 4,
 "nbformat_minor": 2
}
