{
 "cells": [
  {
   "cell_type": "markdown",
   "id": "c498f289",
   "metadata": {},
   "source": [
    "### 1. In the below elements which of them are values or an expression? eg:- values can be integer or string and expressions will be mathematical operators.\n",
    "\n",
    "# * -  expression\n",
    "it is an asterisk(multiplication operator) which is used to multiply int or float values and for string, it is used for string repetition\n",
    "\n",
    "- 2*3 =>6\n",
    "- 2.0*3 =>6.0\n",
    "- 'hi'*3 => 'hihihi'\n",
    "\n",
    "\n",
    "# 'hello'\n",
    "- it is a string \n",
    "\n",
    "# -87.8  \n",
    "- it is a float value\n",
    "# -   => expression\n",
    "\n",
    "it is used for subtraction of int /float value. \n",
    "2-1 =1\n",
    "\n",
    "# / - expression\n",
    "it is a division operator which returns the quotient .( ex: 3/2=1.5)\n",
    "\n",
    "# + - expression\n",
    "it is an addition operator which sums the operands\n",
    "\n",
    "\n",
    "# 6 - integer value"
   ]
  },
  {
   "cell_type": "code",
   "execution_count": 1,
   "id": "807407e0",
   "metadata": {},
   "outputs": [
    {
     "data": {
      "text/plain": [
       "6"
      ]
     },
     "execution_count": 1,
     "metadata": {},
     "output_type": "execute_result"
    }
   ],
   "source": [
    "2*3\n"
   ]
  },
  {
   "cell_type": "code",
   "execution_count": 2,
   "id": "84ac06b9",
   "metadata": {},
   "outputs": [
    {
     "data": {
      "text/plain": [
       "6.0"
      ]
     },
     "execution_count": 2,
     "metadata": {},
     "output_type": "execute_result"
    }
   ],
   "source": [
    "2.0*3"
   ]
  },
  {
   "cell_type": "code",
   "execution_count": 3,
   "id": "e7675479",
   "metadata": {},
   "outputs": [
    {
     "data": {
      "text/plain": [
       "'hihihi'"
      ]
     },
     "execution_count": 3,
     "metadata": {},
     "output_type": "execute_result"
    }
   ],
   "source": [
    "'hi'*3"
   ]
  },
  {
   "cell_type": "code",
   "execution_count": 4,
   "id": "de5f1eb2",
   "metadata": {},
   "outputs": [
    {
     "data": {
      "text/plain": [
       "1.5"
      ]
     },
     "execution_count": 4,
     "metadata": {},
     "output_type": "execute_result"
    }
   ],
   "source": [
    "3/2"
   ]
  },
  {
   "cell_type": "markdown",
   "id": "d5901886",
   "metadata": {},
   "source": [
    "## 2. What is the difference between string and variable?"
   ]
  },
  {
   "cell_type": "markdown",
   "id": "dedfb4aa",
   "metadata": {},
   "source": [
    "-  Variable is a part of computer memory where information is stored where as String is an information that we store in a variable"
   ]
  },
  {
   "cell_type": "markdown",
   "id": "8c6561f0",
   "metadata": {},
   "source": [
    "## 3. Describe three different data types."
   ]
  },
  {
   "cell_type": "markdown",
   "id": "73b27be5",
   "metadata": {},
   "source": [
    "The basic data types are :\n",
    "   - int \n",
    "   - float\n",
    "   - string \n",
    "   - bool\n",
    "   \n",
    "the five standard data types are:\n",
    "   - numbers\n",
    "   - strings\n",
    "   - list\n",
    "   - tuple\n",
    "   - dictionary"
   ]
  },
  {
   "cell_type": "markdown",
   "id": "0bcc0fa6",
   "metadata": {},
   "source": [
    "## 4. What is an expression made up of? What do all expressions do?"
   ]
  },
  {
   "cell_type": "markdown",
   "id": "ef649b4f",
   "metadata": {},
   "source": [
    "- An expression is the combination of symbols like variables,constants and operators that represent a value.\n",
    "- Expressions perform the work of a program. They are used to assign value and to compute and to help the execution flow of a prpgram\n",
    "\n",
    "\n"
   ]
  },
  {
   "cell_type": "markdown",
   "id": "c18c91c0",
   "metadata": {},
   "source": [
    "## 5) This assignment statements, like spam = 10. What is the difference between anexpression and a statement?\n",
    "\n",
    "- statement is nothing but an action or command or any instruction \n",
    " eg: print commands,assignment statements etc..\n",
    "- expression is  the combination of symbols like variables,constants and operators that represent a value\n",
    "\n"
   ]
  },
  {
   "cell_type": "markdown",
   "id": "c744524e",
   "metadata": {},
   "source": [
    "## 6. After running the following code, what does the variable bacon contain?\n",
    "bacon = 22\n",
    "\n",
    "bacon + 1\n",
    "\n",
    "o/p : 23"
   ]
  },
  {
   "cell_type": "markdown",
   "id": "f1afdb93",
   "metadata": {},
   "source": [
    "## 7. What should the values of the following two terms be?\n",
    "- 'spam'+'spamspam' and 'spam'*3 gives the same output\n"
   ]
  },
  {
   "cell_type": "code",
   "execution_count": 8,
   "id": "74e4f627",
   "metadata": {},
   "outputs": [
    {
     "data": {
      "text/plain": [
       "'spamspamspam'"
      ]
     },
     "execution_count": 8,
     "metadata": {},
     "output_type": "execute_result"
    }
   ],
   "source": [
    "'spam'+'spamspam' #concatenation"
   ]
  },
  {
   "cell_type": "code",
   "execution_count": 10,
   "id": "3e3309a0",
   "metadata": {},
   "outputs": [
    {
     "data": {
      "text/plain": [
       "'spamspamspam'"
      ]
     },
     "execution_count": 10,
     "metadata": {},
     "output_type": "execute_result"
    }
   ],
   "source": [
    "'spam'*3 #string repetition"
   ]
  },
  {
   "cell_type": "markdown",
   "id": "30b46fdf",
   "metadata": {},
   "source": [
    "## 8. Why is eggs a valid variable name while 100 is invalid?\n",
    "\n",
    "- there are certain rules to be followed while naming an identifier. some of them are \n",
    "        - the variable can start only with underscore,lower and upper case...\n",
    "        - should not have $,#,%,@ in between the names\n",
    "- in our question,, eggs name is valid because it starts with a lower case alphabets where as 100 is not valid because it is a number and the variable can start only with underscore,lower and upper case..."
   ]
  },
  {
   "cell_type": "markdown",
   "id": "f2932c85",
   "metadata": {},
   "source": [
    "## 9. What three functions can be used to get the integer, floating-point number, or string version of a value?"
   ]
  },
  {
   "cell_type": "markdown",
   "id": "69b1e600",
   "metadata": {},
   "source": [
    "Three functions are :\n",
    "    1) int()\n",
    "    2) float()\n",
    "    3)str()"
   ]
  },
  {
   "cell_type": "markdown",
   "id": "7961ccc7",
   "metadata": {},
   "source": [
    "## 10 ) Why does this expression cause an error? How can you fix it?"
   ]
  },
  {
   "cell_type": "markdown",
   "id": "b5aeb080",
   "metadata": {},
   "source": [
    "' I have eaten '+99+'buritos' => we cannot concatenate a string and an integer .. we can change by converting the int 99 to string "
   ]
  },
  {
   "cell_type": "code",
   "execution_count": 13,
   "id": "ed75fe51",
   "metadata": {},
   "outputs": [
    {
     "data": {
      "text/plain": [
       "' I have eaten 99 buritos'"
      ]
     },
     "execution_count": 13,
     "metadata": {},
     "output_type": "execute_result"
    }
   ],
   "source": [
    "' I have eaten '+'99'+' buritos'"
   ]
  },
  {
   "cell_type": "code",
   "execution_count": 18,
   "id": "6db2dc44",
   "metadata": {},
   "outputs": [],
   "source": [
    "_a_2 =3\n"
   ]
  },
  {
   "cell_type": "code",
   "execution_count": null,
   "id": "8eb09ebc",
   "metadata": {},
   "outputs": [],
   "source": []
  }
 ],
 "metadata": {
  "kernelspec": {
   "display_name": "Python 3",
   "language": "python",
   "name": "python3"
  },
  "language_info": {
   "codemirror_mode": {
    "name": "ipython",
    "version": 3
   },
   "file_extension": ".py",
   "mimetype": "text/x-python",
   "name": "python",
   "nbconvert_exporter": "python",
   "pygments_lexer": "ipython3",
   "version": "3.8.8"
  }
 },
 "nbformat": 4,
 "nbformat_minor": 5
}
