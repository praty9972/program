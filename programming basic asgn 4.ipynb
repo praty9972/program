{
 "cells": [
  {
   "cell_type": "markdown",
   "metadata": {},
   "source": [
    "# programming basic asgn 4\n"
   ]
  },
  {
   "cell_type": "code",
   "execution_count": 86,
   "metadata": {},
   "outputs": [
    {
     "name": "stdout",
     "output_type": "stream",
     "text": [
      "enter the number = 6\n",
      "factorial of 6 is 720 \n"
     ]
    }
   ],
   "source": [
    "# 1.\tWrite a Python Program to Find the Factorial of a Number?\n",
    "\n",
    "num = int(input(\"enter the number = \"))\n",
    "result=1\n",
    "for i in range(1,num+1) :\n",
    "    result*=i\n",
    "print(\"factorial of {} is {} \".format(num,result))\n"
   ]
  },
  {
   "cell_type": "code",
   "execution_count": 88,
   "metadata": {},
   "outputs": [
    {
     "name": "stdout",
     "output_type": "stream",
     "text": [
      "enter the number = 6\n",
      "\n",
      "Multiplication table of 6 is \n",
      "  \n",
      "6  *  1  =  6\n",
      "6  *  2  =  12\n",
      "6  *  3  =  18\n",
      "6  *  4  =  24\n",
      "6  *  5  =  30\n",
      "6  *  6  =  36\n",
      "6  *  7  =  42\n",
      "6  *  8  =  48\n",
      "6  *  9  =  54\n",
      "6  *  10  =  60\n"
     ]
    }
   ],
   "source": [
    "## 2.\tWrite a Python Program to Display the multiplication Table?\n",
    "num = int(input(\"enter the number = \"))\n",
    "print()\n",
    "print(\"Multiplication table of {n} is \\n  \".format(n=num))\n",
    "for i in range(1,11):\n",
    "    print(num,\" * \",i,\" = \",num*i)\n",
    "    "
   ]
  },
  {
   "cell_type": "code",
   "execution_count": 89,
   "metadata": {},
   "outputs": [
    {
     "name": "stdout",
     "output_type": "stream",
     "text": [
      "enter how many number we want in the Fibonacci series = 10\n",
      "\n",
      "final  Fibonacci series is  [0, 1, 1, 2, 3, 5, 8, 13, 21, 34]\n"
     ]
    }
   ],
   "source": [
    "# 3.\tWrite a Python Program to Print the Fibonacci sequence?\n",
    "\n",
    "num = int(input(\"enter how many number we want in the Fibonacci series = \"))\n",
    "f=[]\n",
    "for i in range(0,num) :\n",
    "    f.append(i)\n",
    "s=[0,1] # as fibonacci series needs 2 elements sum to get the 3rd \n",
    "for i in range(0,len(f)-2):\n",
    "    for i in range(1,len(s)):\n",
    "        m=s[i]+s[i-1]\n",
    "    s.append(m)\n",
    "print()\n",
    "print(\"final  Fibonacci series is \",s)\n",
    "    "
   ]
  },
  {
   "cell_type": "code",
   "execution_count": 90,
   "metadata": {},
   "outputs": [
    {
     "name": "stdout",
     "output_type": "stream",
     "text": [
      "enter the number = 153\n",
      "the result is  153\n",
      "the number  153 is a armstrong number\n"
     ]
    }
   ],
   "source": [
    "# 4.\tWrite a Python Program to Check Armstrong Number?\n",
    "\n",
    "num = int(input(\"enter the number = \"))\n",
    "number = num\n",
    "result1=0\n",
    "count=len(str(num)) #counting number of digits\n",
    "while num > 0 :\n",
    "    result=num%10\n",
    "    result= result**count\n",
    "    result1+=result\n",
    "    num=num//10\n",
    "print(\"the result is \", result1)\n",
    "if number == result1 :\n",
    "    print(\"the number \",number, \"is a armstrong number\")\n",
    "else :\n",
    "    print(\"the number \",number, \"is not a armstrong number\")"
   ]
  },
  {
   "cell_type": "code",
   "execution_count": 92,
   "metadata": {},
   "outputs": [
    {
     "name": "stdout",
     "output_type": "stream",
     "text": [
      "enter the 1st number 1\n",
      "enter the 2nd number 500\n",
      "the armstrong numbers are \n",
      "\n",
      "1 2 3 4 5 6 7 8 9 153 370 371 407 "
     ]
    }
   ],
   "source": [
    "#5.\tWrite a Python Program to Find Armstrong Number in an Interval?\n",
    "lower = int(input(\"enter the 1st number \"))\n",
    "upper = int(input(\"enter the 2nd number \"))\n",
    "print(\"the armstrong numbers are \\n\")\n",
    "for num in range(lower,upper+1):\n",
    "    finalNum= num\n",
    "    result1=0\n",
    "    count_digits=len(str(num))\n",
    "    while num > 0 :\n",
    "        result=num%10\n",
    "        result=result**count_digits\n",
    "        result1+=result\n",
    "        num=num//10\n",
    "    if result1==finalNum :\n",
    "        print(result1,end=\" \")"
   ]
  },
  {
   "cell_type": "code",
   "execution_count": 93,
   "metadata": {},
   "outputs": [
    {
     "name": "stdout",
     "output_type": "stream",
     "text": [
      "enter the number = 6\n",
      "21\n"
     ]
    }
   ],
   "source": [
    "# 6.\tWrite a Python Program to Find the Sum of Natural Numbers?\n",
    "num = int(input(\"enter the number = \"))\n",
    "sum1=0\n",
    "for i in range(1,num+1):\n",
    "    if i>0:\n",
    "        sum1=sum1+i\n",
    "print(sum1)\n",
    "    "
   ]
  },
  {
   "cell_type": "code",
   "execution_count": null,
   "metadata": {},
   "outputs": [],
   "source": []
  }
 ],
 "metadata": {
  "kernelspec": {
   "display_name": "Python 3",
   "language": "python",
   "name": "python3"
  },
  "language_info": {
   "codemirror_mode": {
    "name": "ipython",
    "version": 3
   },
   "file_extension": ".py",
   "mimetype": "text/x-python",
   "name": "python",
   "nbconvert_exporter": "python",
   "pygments_lexer": "ipython3",
   "version": "3.7.3"
  }
 },
 "nbformat": 4,
 "nbformat_minor": 2
}
