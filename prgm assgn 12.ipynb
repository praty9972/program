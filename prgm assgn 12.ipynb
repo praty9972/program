{
 "cells": [
  {
   "cell_type": "code",
   "execution_count": null,
   "metadata": {},
   "outputs": [],
   "source": [
    "'''\n",
    "1. Write a Python program to Extract Unique values dictionary values?\n",
    "2. Write a Python program to find the sum of all items in a dictionary?\n",
    "3. Write a Python program to Merging two Dictionaries?\n",
    "4. Write a Python program to convert key-values list to flat dictionary?\n",
    "5. Write a Python program to insertion at the beginning in OrderedDict?\n",
    "6. Write a Python program to check order of character in string using OrderedDict()?\n",
    "7. Write a Python program to sort Python Dictionaries by Key or Value?\n",
    "'''"
   ]
  },
  {
   "cell_type": "markdown",
   "metadata": {},
   "source": [
    "## 1. Write a Python program to Extract Unique values dictionary values?"
   ]
  },
  {
   "cell_type": "code",
   "execution_count": 6,
   "metadata": {},
   "outputs": [
    {
     "name": "stdout",
     "output_type": "stream",
     "text": [
      "unique items in the list is  ['pratyusha', 'suk', 'anagha', 12, 13, 14, 115, 16, 17, 18, 11, 24, 25]\n"
     ]
    }
   ],
   "source": [
    "d={\"name\":['pratyusha','suk','anagha','suk'],\"ids\":[12,13,14,115,16,17,18],\"classes\":[12,11,14,18,24,25]}\n",
    "e=[]\n",
    "for i in d.values():\n",
    "    for j in i:\n",
    "        if j not in e:\n",
    "            e.append(j)\n",
    "        else:\n",
    "            pass\n",
    "print(\"unique items in the list is \",e)\n"
   ]
  },
  {
   "cell_type": "markdown",
   "metadata": {},
   "source": [
    "## 2. Write a Python program to find the sum of all items in a dictionary?"
   ]
  },
  {
   "cell_type": "code",
   "execution_count": 13,
   "metadata": {},
   "outputs": [
    {
     "name": "stdout",
     "output_type": "stream",
     "text": [
      "sum =  60\n"
     ]
    }
   ],
   "source": [
    "d={'a':10,'b':20,'c':30}\n",
    "s=0\n",
    "for i in d:\n",
    "    s+=d[i]\n",
    "print(\"sum = \",s)"
   ]
  },
  {
   "cell_type": "markdown",
   "metadata": {},
   "source": [
    "## 3. Write a Python program to Merging two Dictionaries?"
   ]
  },
  {
   "cell_type": "code",
   "execution_count": 16,
   "metadata": {},
   "outputs": [
    {
     "data": {
      "text/plain": [
       "{'a': 10, 'b': 20, 'c': 30, 'd': 40, 'e': 50, 'f': 60}"
      ]
     },
     "execution_count": 16,
     "metadata": {},
     "output_type": "execute_result"
    }
   ],
   "source": [
    "x={'a':10,'b':20,'c':30}\n",
    "y={'d':40,'e':50,'f':60}\n",
    "z = {**x, **y}\n",
    "z\n",
    "    "
   ]
  },
  {
   "cell_type": "code",
   "execution_count": 54,
   "metadata": {},
   "outputs": [
    {
     "name": "stdout",
     "output_type": "stream",
     "text": [
      "{'a': 10, 'b': 20, 'c': 30, 'd': 40, 'e': 50, 'f': 60}\n"
     ]
    }
   ],
   "source": [
    "x={'a':10,'b':20,'c':30}\n",
    "y={'d':40,'e':50,'f':60}\n",
    "for i,j in y.items():\n",
    "    x[i]=j\n",
    "print(x)"
   ]
  },
  {
   "cell_type": "markdown",
   "metadata": {},
   "source": [
    "## 4. Write a Python program to convert key-values list to flat dictionary?"
   ]
  },
  {
   "cell_type": "code",
   "execution_count": 27,
   "metadata": {},
   "outputs": [
    {
     "data": {
      "text/plain": [
       "{'gm': 10, 'ga': 20, 'gn': 30}"
      ]
     },
     "execution_count": 27,
     "metadata": {},
     "output_type": "execute_result"
    }
   ],
   "source": [
    "x={'a':['gm','ga','gn']}\n",
    "y={'d':[10,20,30]}\n",
    "dict(zip(x['a'],y['d']))\n"
   ]
  },
  {
   "cell_type": "code",
   "execution_count": 62,
   "metadata": {},
   "outputs": [
    {
     "data": {
      "text/plain": [
       "{'gm': 10, 'ga': 20, 'gn': 30}"
      ]
     },
     "execution_count": 62,
     "metadata": {},
     "output_type": "execute_result"
    }
   ],
   "source": [
    "x={'a':['gm','ga','gn']}\n",
    "y={'d':[10,20,30]}\n",
    "z={}\n",
    "for i in range(len(x['a'])):\n",
    "    z[x['a'][i]]=y['d'][i]\n",
    "z\n",
    "    "
   ]
  },
  {
   "cell_type": "markdown",
   "metadata": {},
   "source": [
    "## 5. Write a Python program to insertion at the beginning in OrderedDict?"
   ]
  },
  {
   "cell_type": "code",
   "execution_count": 42,
   "metadata": {},
   "outputs": [
    {
     "data": {
      "text/plain": [
       "OrderedDict([('y', 50), ('b', 10), ('a', 20), ('c', 30)])"
      ]
     },
     "execution_count": 42,
     "metadata": {},
     "output_type": "execute_result"
    }
   ],
   "source": [
    "from collections import OrderedDict \n",
    "x=OrderedDict([('b',10),('a',20),('c',30)])\n",
    "x.update({'y':50})\n",
    "x.move_to_end('y',last=False)\n",
    "x"
   ]
  },
  {
   "cell_type": "markdown",
   "metadata": {},
   "source": [
    "## 6. Write a Python program to check order of character in string using OrderedDict()?`m"
   ]
  },
  {
   "cell_type": "code",
   "execution_count": null,
   "metadata": {},
   "outputs": [],
   "source": [
    "from collections import OrderedDict "
   ]
  },
  {
   "cell_type": "code",
   "execution_count": 20,
   "metadata": {},
   "outputs": [
    {
     "name": "stdout",
     "output_type": "stream",
     "text": [
      "True, the characters of the strimg follow the same sequence as pattern \n"
     ]
    }
   ],
   "source": [
    "def ord(s, p): \n",
    "    dic = OrderedDict.fromkeys(s) \n",
    "    pt = 0\n",
    "    for k,v in dic.items(): \n",
    "        if (k == p[pt]): \n",
    "            pt = pt + 1\n",
    "        if (pt == (len(p))): \n",
    "            return 'True, the characters of the strimg follow the same sequence as pattern '\n",
    "    return 'False'\n",
    "\n",
    "s= 'My first'\n",
    "p = 'yt'\n",
    "print(ord(s,p)) \n"
   ]
  },
  {
   "cell_type": "markdown",
   "metadata": {},
   "source": [
    "## 7. Write a Python program to sort Python Dictionaries by Key or Value?`"
   ]
  },
  {
   "cell_type": "code",
   "execution_count": 51,
   "metadata": {},
   "outputs": [
    {
     "data": {
      "text/plain": [
       "[('a', 10), ('b', 40), ('c', 30), ('d', 20)]"
      ]
     },
     "execution_count": 51,
     "metadata": {},
     "output_type": "execute_result"
    }
   ],
   "source": [
    "x={'a':10,'c':30,'d':20,'b':40}\n",
    "sorted(x.items())"
   ]
  },
  {
   "cell_type": "code",
   "execution_count": null,
   "metadata": {},
   "outputs": [],
   "source": []
  }
 ],
 "metadata": {
  "kernelspec": {
   "display_name": "Python [conda env:new_python_3.7]",
   "language": "python",
   "name": "conda-env-new_python_3.7-py"
  },
  "language_info": {
   "codemirror_mode": {
    "name": "ipython",
    "version": 3
   },
   "file_extension": ".py",
   "mimetype": "text/x-python",
   "name": "python",
   "nbconvert_exporter": "python",
   "pygments_lexer": "ipython3",
   "version": "3.7.11"
  }
 },
 "nbformat": 4,
 "nbformat_minor": 2
}
