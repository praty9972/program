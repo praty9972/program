{
 "cells": [
  {
   "cell_type": "code",
   "execution_count": null,
   "metadata": {},
   "outputs": [],
   "source": [
    "''' \n",
    "1. Write a Python program to find sum of elements in list?\n",
    "2. Write a Python program to Multiply all numbers in the list?\n",
    "3. Write a Python program to find smallest number in a list?\n",
    "4. Write a Python program to find largest number in a list?\n",
    "5. Write a Python program to find second largest number in a list?\n",
    "6. Write a Python program to find N largest elements from a list?\n",
    "7. Write a Python program to print even numbers in a list?\n",
    "8. Write a Python program to print odd numbers in a List?\n",
    "9. Write a Python program to Remove empty List from List?\n",
    "10. Write a Python program to Cloning or Copying a list?\n",
    "11. Write a Python program to Count occurrences of an element in a list?\n",
    "\n",
    "'''"
   ]
  },
  {
   "cell_type": "markdown",
   "metadata": {},
   "source": [
    "## 1. Write a Python program to find sum of elements in list?"
   ]
  },
  {
   "cell_type": "code",
   "execution_count": 6,
   "metadata": {},
   "outputs": [
    {
     "name": "stdout",
     "output_type": "stream",
     "text": [
      " enter the number of elements : 3\n",
      "1\n",
      "2\n",
      "3\n",
      " the sum of the list [1, 2, 3] is  6\n"
     ]
    }
   ],
   "source": [
    "num = int(input(\" enter the number of elements : \"))\n",
    "l=[]\n",
    "for i in range(num):\n",
    "    a=int(input())\n",
    "    l.append(a)\n",
    "print(\" the sum of the list {a} is \".format(a=l),sum(l))\n",
    "    "
   ]
  },
  {
   "cell_type": "markdown",
   "metadata": {},
   "source": [
    "## 2. Write a Python program to Multiply all numbers in the list?"
   ]
  },
  {
   "cell_type": "code",
   "execution_count": 2,
   "metadata": {},
   "outputs": [
    {
     "name": "stdout",
     "output_type": "stream",
     "text": [
      " enter the number of elements : 4\n",
      "2\n",
      "3\n",
      "4\n",
      "5\n",
      "the elements are [2, 3, 4, 5]\n",
      "\n",
      " the multiplication of all numbers is  120\n"
     ]
    }
   ],
   "source": [
    "num = int(input(\" enter the number of elements : \"))\n",
    "l=[]\n",
    "for i in range(num):\n",
    "    a=int(input())\n",
    "    l.append(a)\n",
    "print(\"the elements are\",l)\n",
    "print()\n",
    "mul=1\n",
    "for i in l:\n",
    "    mul*=i\n",
    "print(\" the multiplication of all numbers is \",mul)    "
   ]
  },
  {
   "cell_type": "markdown",
   "metadata": {},
   "source": [
    "## 3. Write a Python program to find smallest number in a list?"
   ]
  },
  {
   "cell_type": "code",
   "execution_count": 8,
   "metadata": {},
   "outputs": [
    {
     "name": "stdout",
     "output_type": "stream",
     "text": [
      "the smallest number is list [1, 4, 5, 6, 10, 12, 20] is :  1\n"
     ]
    }
   ],
   "source": [
    "l=[10,20,12,1,5,4,6]\n",
    "l.sort()\n",
    "print(\"the smallest number in the list {a} is : \".format(a=l),l[0])"
   ]
  },
  {
   "cell_type": "code",
   "execution_count": 12,
   "metadata": {},
   "outputs": [
    {
     "name": "stdout",
     "output_type": "stream",
     "text": [
      "the smallest number in the list [1, 4, 5, 6, 10, 12, 20] is :  1\n"
     ]
    }
   ],
   "source": [
    "l=[10,20,12,1,5,4,6]\n",
    "for j in range(len(l)-1):\n",
    "    for  i in range(len(l)-1) :\n",
    "        if l[i]>l[i+1]:\n",
    "            l[i],l[i+1]=l[i+1],l[i]\n",
    "print(\"the smallest number in the list {a} is : \".format(a=l),l[0])"
   ]
  },
  {
   "cell_type": "markdown",
   "metadata": {},
   "source": [
    "## 4. Write a Python program to find largest number in a list?"
   ]
  },
  {
   "cell_type": "code",
   "execution_count": 13,
   "metadata": {},
   "outputs": [
    {
     "name": "stdout",
     "output_type": "stream",
     "text": [
      "the largest number in the list [1, 4, 5, 6, 10, 12, 20] is :  20\n"
     ]
    }
   ],
   "source": [
    "l=[10,20,12,1,5,4,6]\n",
    "for j in range(len(l)-1):\n",
    "    for  i in range(len(l)-1) :\n",
    "        if l[i]>l[i+1]:\n",
    "            l[i],l[i+1]=l[i+1],l[i]\n",
    "print(\"the largest number in the list {a} is : \".format(a=l),l[len(l)-1])"
   ]
  },
  {
   "cell_type": "markdown",
   "metadata": {},
   "source": [
    " ## 5. Write a Python program to find second largest number in a list?"
   ]
  },
  {
   "cell_type": "code",
   "execution_count": 14,
   "metadata": {},
   "outputs": [
    {
     "name": "stdout",
     "output_type": "stream",
     "text": [
      "the largest number in the list [1, 4, 5, 6, 10, 12, 20] is :  12\n"
     ]
    }
   ],
   "source": [
    "l=[10,20,12,1,5,4,6]\n",
    "for j in range(len(l)-1):\n",
    "    for  i in range(len(l)-1) :\n",
    "        if l[i]>l[i+1]:\n",
    "            l[i],l[i+1]=l[i+1],l[i]\n",
    "print(\"the largest number in the list {a} is : \".format(a=l),l[len(l)-2])"
   ]
  },
  {
   "cell_type": "markdown",
   "metadata": {},
   "source": [
    "## 6. Write a Python program to find N largest elements from a list?"
   ]
  },
  {
   "cell_type": "code",
   "execution_count": 25,
   "metadata": {},
   "outputs": [
    {
     "name": "stdout",
     "output_type": "stream",
     "text": [
      "enter the number of largest element u want to display : 3\n",
      "\n",
      "the list is  [4, 5, 1, 2, 9]\n",
      "\n",
      "the sorted list is  [1, 2, 4, 5, 9]\n",
      "\n",
      "the 3 largest numbers in the list is  [9, 5, 4]\n"
     ]
    }
   ],
   "source": [
    "l=[4, 5, 1, 2, 9]\n",
    "num=int(input(\"enter the number of largest element u want to display : \"))\n",
    "print()\n",
    "print(\"the list is \",l)\n",
    "print()\n",
    "for j in range(len(l)-1):\n",
    "    for  i in range(len(l)-1) :\n",
    "        if l[i]>l[i+1]:\n",
    "            l[i],l[i+1]=l[i+1],l[i]\n",
    "print(\"the sorted list is \",l)\n",
    "print()\n",
    "k=l\n",
    "n=[]\n",
    "for i in range(1,num+1):\n",
    "    n.append(k[-i])\n",
    "print(\"the {a} largest numbers in the list is \".format(a=num),n)    "
   ]
  },
  {
   "cell_type": "markdown",
   "metadata": {},
   "source": [
    "## 7. Write a Python program to print even numbers in a list?"
   ]
  },
  {
   "cell_type": "code",
   "execution_count": 15,
   "metadata": {},
   "outputs": [
    {
     "name": "stdout",
     "output_type": "stream",
     "text": [
      "the even numbers in the list [1, 2, 4, 6, 7, 8, 19, 100] is :  [2, 4, 6, 8, 100]\n"
     ]
    }
   ],
   "source": [
    "l=[1,2,4,6,7,8,19,100]\n",
    "e=[]\n",
    "for i in l :\n",
    "    if i%2==0:\n",
    "        e.append(i)\n",
    "print(\"the even numbers in the list {a} is : \".format(a=l),e)\n",
    "        "
   ]
  },
  {
   "cell_type": "markdown",
   "metadata": {},
   "source": [
    "## 8. Write a Python program to print odd numbers in a List?"
   ]
  },
  {
   "cell_type": "code",
   "execution_count": 16,
   "metadata": {},
   "outputs": [
    {
     "name": "stdout",
     "output_type": "stream",
     "text": [
      "the even numbers in the list [1, 2, 4, 6, 7, 8, 19, 100] is :  [1, 7, 19]\n"
     ]
    }
   ],
   "source": [
    "l=[1,2,4,6,7,8,19,100]\n",
    "od=[]\n",
    "for i in l :\n",
    "    if i%2!=0:\n",
    "        od.append(i)\n",
    "print(\"the even numbers in the list {a} is : \".format(a=l),od)"
   ]
  },
  {
   "cell_type": "markdown",
   "metadata": {},
   "source": [
    "## 9. Write a Python program to Remove empty List from List?"
   ]
  },
  {
   "cell_type": "code",
   "execution_count": 30,
   "metadata": {},
   "outputs": [
    {
     "name": "stdout",
     "output_type": "stream",
     "text": [
      "list with empty lists  [[1, 2, 3], [], [4, 5, 6], [], [], [7], [], [], [], [10, 11]]\n",
      "\n",
      "after removing the empty lists: [[1, 2, 3], [4, 5, 6], [7], [10, 11]]\n"
     ]
    }
   ],
   "source": [
    "l=[[1,2,3],[],[4,5,6],[],[],[7],[],[],[],[10,11]]\n",
    "emp=[]\n",
    "for i in l:\n",
    "    if len(i)!= 0:\n",
    "        emp.append(i)\n",
    "print(\"list with empty lists \",l) \n",
    "print()\n",
    "print(\"after removing the empty lists:\",emp)"
   ]
  },
  {
   "cell_type": "markdown",
   "metadata": {},
   "source": [
    "## 10. Write a Python program to Cloning or Copying a list?"
   ]
  },
  {
   "cell_type": "code",
   "execution_count": 37,
   "metadata": {},
   "outputs": [
    {
     "name": "stdout",
     "output_type": "stream",
     "text": [
      "[1, 2, 4, 6, 7, 8, 19, 100]\n",
      "l =  [10, 2, 4, 6, 7, 8, 19, 100] \n",
      " k =  [1, 2, 4, 6, 7, 8, 19, 100]\n"
     ]
    }
   ],
   "source": [
    "import copy\n",
    "l=[1,2,4,6,7,8,19,100]\n",
    "k=copy.copy(l)\n",
    "print(k)\n",
    "l[0]=10\n",
    "print(\"l = \",l,\"\\n\",\"k = \",k)"
   ]
  },
  {
   "cell_type": "markdown",
   "metadata": {},
   "source": [
    "## 11. Write a Python program to Count occurrences of an element in a list?"
   ]
  },
  {
   "cell_type": "code",
   "execution_count": 38,
   "metadata": {},
   "outputs": [
    {
     "name": "stdout",
     "output_type": "stream",
     "text": [
      "enter the element u want to find the occurence : 19\n",
      "the occurence of  19  is  3\n"
     ]
    }
   ],
   "source": [
    "l=[1,2,4,6,7,8,19,100,1,3,1,6,1,2,4,6,8,19,8,19]\n",
    "num=int(input(\"enter the element u want to find the occurence : \"))\n",
    "c=0\n",
    "for i in l :\n",
    "    if i==num:\n",
    "        c=c+1\n",
    "print(\"the occurence of \",num,\" is \",c)\n"
   ]
  },
  {
   "cell_type": "code",
   "execution_count": null,
   "metadata": {},
   "outputs": [],
   "source": []
  }
 ],
 "metadata": {
  "kernelspec": {
   "display_name": "Python [conda env:new_python_3.7]",
   "language": "python",
   "name": "conda-env-new_python_3.7-py"
  },
  "language_info": {
   "codemirror_mode": {
    "name": "ipython",
    "version": 3
   },
   "file_extension": ".py",
   "mimetype": "text/x-python",
   "name": "python",
   "nbconvert_exporter": "python",
   "pygments_lexer": "ipython3",
   "version": "3.7.11"
  }
 },
 "nbformat": 4,
 "nbformat_minor": 2
}
