{
 "cells": [
  {
   "cell_type": "code",
   "execution_count": null,
   "metadata": {},
   "outputs": [],
   "source": [
    "1. Write a Python Program to Add Two Matrices?\n",
    "2. Write a Python Program to Multiply Two Matrices?\n",
    "3. Write a Python Program to Transpose a Matrix?\n",
    "4. Write a Python Program to Sort Words in Alphabetic Order?\n",
    "5. Write a Python Program to Remove Punctuation From a String?"
   ]
  },
  {
   "cell_type": "code",
   "execution_count": 1,
   "metadata": {},
   "outputs": [],
   "source": [
    "import numpy as np"
   ]
  },
  {
   "cell_type": "code",
   "execution_count": 11,
   "metadata": {},
   "outputs": [
    {
     "name": "stdout",
     "output_type": "stream",
     "text": [
      "matrix addition  is \n",
      " [[2 4]\n",
      " [2 4]]\n"
     ]
    }
   ],
   "source": [
    "# 1. Write a Python Program to Add Two Matrices?\n",
    "mat1=np.matrix([[1,2],[1,2]])\n",
    "mat2=np.matrix([[1,2],[1,2]])\n",
    "print(\"matrix addition  is \\n\",mat1+mat2)"
   ]
  },
  {
   "cell_type": "code",
   "execution_count": 6,
   "metadata": {},
   "outputs": [
    {
     "name": "stdout",
     "output_type": "stream",
     "text": [
      "enter the number of rows : 2\n",
      "enter the number of columns : 2\n",
      "1\n",
      "2\n",
      "3\n",
      "4\n",
      "[[1, 2], [3, 4]]\n",
      "\n",
      "matrix1 is :: \n",
      "1 2 \n",
      "3 4 \n",
      "\n",
      "enter the elements of second matrix ::\n",
      "\n",
      "5\n",
      "6\n",
      "7\n",
      "8\n",
      "[[5, 6], [7, 8]]\n",
      "\n",
      "matrix2 is :: \n",
      "5 6 \n",
      "7 8 \n",
      "[[0, 0], [0, 0]]\n",
      "\n",
      "the final matrix is :: \n",
      "\n",
      "6 8 \n",
      "10 12 \n"
     ]
    }
   ],
   "source": [
    "# 1. Write a Python Program to Add Two Matrices? using nested list \n",
    "\n",
    "row=int(input(\"enter the number of rows : \"))\n",
    "col=int(input(\"enter the number of columns : \"))\n",
    "mat1=[]\n",
    "mat2=[]\n",
    "r=[]\n",
    "c=[]\n",
    "for i in range(row):    \n",
    "    for j in range(col):\n",
    "        r.append(int(input()))\n",
    "    mat1.append(r)\n",
    "    r=[]\n",
    "print(mat1)\n",
    "print()\n",
    "print(\"matrix1 is :: \")\n",
    "for i in range(row):    \n",
    "    for j in range(col):\n",
    "        print(mat1[i][j],end=\" \")\n",
    "    print()\n",
    "#print(mat1)\n",
    "\n",
    "print()\n",
    "print(\"enter the elements of second matrix ::\")\n",
    "print()\n",
    "for i in range(row):    \n",
    "    for j in range(col):\n",
    "        c.append(int(input()))\n",
    "    mat2.append(c)\n",
    "    c=[]\n",
    "print(mat2)\n",
    "print()\n",
    "print(\"matrix2 is :: \")\n",
    "\n",
    "for i in range(row):    \n",
    "    for j in range(col):\n",
    "        print(mat2[i][j],end=\" \")\n",
    "    print()\n",
    "#print(mat2)\n",
    "\n",
    "result = []\n",
    "re=[]\n",
    "for i in range(row):    \n",
    "    for j in range(col):\n",
    "        re.append(0)\n",
    "    result.append(re)\n",
    "    re=[]\n",
    "print(result)\n",
    "print()\n",
    " #addition of matrices \n",
    "\n",
    "for i in range(row):    \n",
    "    for j in range(col):\n",
    "        result[i][j]=mat1[i][j]+mat2[i][j]\n",
    "        \n",
    "        #final.append(res)\n",
    "print(\"the final matrix is :: \\n\")\n",
    "for i in range(row):    \n",
    "    for j in range(col):\n",
    "        print(result[i][j],end=\" \")\n",
    "    print()        \n",
    "        \n",
    "\n"
   ]
  },
  {
   "cell_type": "code",
   "execution_count": 9,
   "metadata": {},
   "outputs": [
    {
     "data": {
      "text/plain": [
       "matrix([[3, 6],\n",
       "        [3, 6]])"
      ]
     },
     "execution_count": 9,
     "metadata": {},
     "output_type": "execute_result"
    }
   ],
   "source": [
    "# 2. Write a Python Program to Multiply Two Matrices?\n",
    "mat1=np.matrix([[1,2],[1,2]])\n",
    "mat2=np.matrix([[1,2],[1,2]])\n",
    "print(\"matrix multiplication is \",mat1*mat2)"
   ]
  },
  {
   "cell_type": "code",
   "execution_count": 10,
   "metadata": {},
   "outputs": [
    {
     "name": "stdout",
     "output_type": "stream",
     "text": [
      "enter the number of rows : 2\n",
      "enter the number of columns : 2\n",
      "1\n",
      "2\n",
      "3\n",
      "4\n",
      "[[1, 2], [3, 4]]\n",
      "\n",
      "matrix1 is :: \n",
      "1 2 \n",
      "3 4 \n",
      "\n",
      "enter the elements of second matrix ::\n",
      "\n",
      "5\n",
      "6\n",
      "7\n",
      "8\n",
      "[[5, 6], [7, 8]]\n",
      "\n",
      "matrix2 is :: \n",
      "5 6 \n",
      "7 8 \n",
      "[[0, 0], [0, 0]]\n",
      "\n",
      "\n",
      "the multiplication of above matrices is :\n",
      "\n",
      "19 22 \n",
      "43 50 \n"
     ]
    }
   ],
   "source": [
    "# 2. Write a Python Program to Multiply Two Matrices? #using nested list \n",
    "\n",
    "row=int(input(\"enter the number of rows : \"))\n",
    "col=int(input(\"enter the number of columns : \"))\n",
    "mat1=[]\n",
    "mat2=[]\n",
    "r=[]\n",
    "c=[]\n",
    "for i in range(row):    \n",
    "    for j in range(col):\n",
    "        r.append(int(input()))\n",
    "    mat1.append(r)\n",
    "    r=[]\n",
    "print(mat1)\n",
    "print()\n",
    "print(\"matrix1 is :: \")\n",
    "for i in range(row):    \n",
    "    for j in range(col):\n",
    "        print(mat1[i][j],end=\" \")\n",
    "    print()\n",
    "#print(mat1)\n",
    "\n",
    "print()\n",
    "print(\"enter the elements of second matrix ::\")\n",
    "print()\n",
    "for i in range(row):    \n",
    "    for j in range(col):\n",
    "        c.append(int(input()))\n",
    "    mat2.append(c)\n",
    "    c=[]\n",
    "print(mat2)\n",
    "print()\n",
    "print(\"matrix2 is :: \")\n",
    "\n",
    "for i in range(row):    \n",
    "    for j in range(col):\n",
    "        print(mat2[i][j],end=\" \")\n",
    "    print()\n",
    "#multiplication \n",
    "result = []\n",
    "re=[]\n",
    "for i in range(row):    \n",
    "    for j in range(col):\n",
    "        re.append(0)\n",
    "    result.append(re)\n",
    "    re=[]\n",
    "print(result)\n",
    "print()\n",
    "\n",
    "for i in range(row):    \n",
    "    for j in range(col):\n",
    "        for k in range(col):\n",
    "            result[i][j] += mat1[i][k] * mat2[k][j]\n",
    "print()\n",
    "print(\"the multiplication of above matrices is :\\n\")\n",
    "for i in range(row):    \n",
    "    for j in range(col):\n",
    "        print(result[i][j],end=\" \")\n",
    "    print()     \n",
    "            "
   ]
  },
  {
   "cell_type": "code",
   "execution_count": 19,
   "metadata": {},
   "outputs": [
    {
     "name": "stdout",
     "output_type": "stream",
     "text": [
      "matrix before transpose is \n",
      "  [[1 2]\n",
      " [3 4]]\n",
      "\n",
      "the transpose of a matrix is \n",
      "  [[1 3]\n",
      " [2 4]]\n"
     ]
    }
   ],
   "source": [
    "# 3. Write a Python Program to Transpose a Matrix?\n",
    "mat1=np.matrix([[1,2],[3,4]])\n",
    "print(\"matrix before transpose is \\n \",mat1)\n",
    "trans = mat1.T\n",
    "print()\n",
    "print(\"the transpose of a matrix is \\n \",trans)"
   ]
  },
  {
   "cell_type": "code",
   "execution_count": 5,
   "metadata": {},
   "outputs": [
    {
     "name": "stdout",
     "output_type": "stream",
     "text": [
      "enter the number of rows : 3\n",
      "enter the number of rows : 3\n",
      "1\n",
      "2\n",
      "3\n",
      "4\n",
      "5\n",
      "6\n",
      "7\n",
      "8\n",
      "9\n",
      "[[1, 2, 3], [4, 5, 6], [7, 8, 9]]\n",
      "\n",
      "matrix1 is :: \n",
      "1 2 3 \n",
      "4 5 6 \n",
      "7 8 9 \n",
      "\n",
      "transpose of the matrix is \n",
      "\n",
      "1 4 7 \n",
      "2 5 8 \n",
      "3 6 9 \n"
     ]
    }
   ],
   "source": [
    "# 3. Write a Python Program to Transpose a Matrix? using nested list \n",
    "row=int(input(\"enter the number of rows : \"))\n",
    "col=int(input(\"enter the number of columns : \"))\n",
    "mat1=[]\n",
    "r=[]\n",
    "\n",
    "for i in range(row):    \n",
    "    for j in range(col):\n",
    "        r.append(int(input()))\n",
    "    mat1.append(r)\n",
    "    r=[]\n",
    "print(mat1)\n",
    "print()\n",
    "print(\"matrix1 is :: \")\n",
    "for i in range(row):    \n",
    "    for j in range(col):\n",
    "        print(mat1[i][j],end=\" \")\n",
    "    print()\n",
    "    \n",
    "print()\n",
    "print(\"transpose of the matrix is \")\n",
    "print()\n",
    "for i in range(row):    \n",
    "    for j in range(col):\n",
    "        print(mat1[j][i],end=\" \")\n",
    "    print()"
   ]
  },
  {
   "cell_type": "code",
   "execution_count": 27,
   "metadata": {},
   "outputs": [
    {
     "name": "stdout",
     "output_type": "stream",
     "text": [
      "enter the words :: Python Program to Sort Words in Alphabetic Order\n",
      "['Alphabetic', 'Order', 'Program', 'Python', 'Sort', 'Words', 'in', 'to']\n"
     ]
    }
   ],
   "source": [
    "# 4. Write a Python Program to Sort Words in Alphabetic Order?\n",
    "\n",
    "a=input(\"enter the words :: \")\n",
    "b=a.split()\n",
    "b.sort()\n",
    "print(b)"
   ]
  },
  {
   "cell_type": "code",
   "execution_count": 25,
   "metadata": {},
   "outputs": [
    {
     "name": "stdout",
     "output_type": "stream",
     "text": [
      "enter the passage :: hi@ all! ho@w 'ar$e y(o)u\n",
      "after removing punctuations ::  hi all how are you\n"
     ]
    }
   ],
   "source": [
    "# 5. Write a Python Program to Remove Punctuation From a String?\n",
    "\n",
    "punc= '''!\"#$%&'()*+,-./:;?@[\\]^_`{|}~'''\n",
    "passage =input(\"enter the passage :: \")\n",
    "for i in passage:\n",
    "    for i in  punc :\n",
    "        passage=passage.replace(i,'')\n",
    "print(\"after removing punctuations :: \",passage)\n",
    "\n",
    "     \n",
    "        "
   ]
  },
  {
   "cell_type": "code",
   "execution_count": null,
   "metadata": {},
   "outputs": [],
   "source": []
  }
 ],
 "metadata": {
  "kernelspec": {
   "display_name": "Python 3",
   "language": "python",
   "name": "python3"
  },
  "language_info": {
   "codemirror_mode": {
    "name": "ipython",
    "version": 3
   },
   "file_extension": ".py",
   "mimetype": "text/x-python",
   "name": "python",
   "nbconvert_exporter": "python",
   "pygments_lexer": "ipython3",
   "version": "3.7.3"
  }
 },
 "nbformat": 4,
 "nbformat_minor": 2
}
