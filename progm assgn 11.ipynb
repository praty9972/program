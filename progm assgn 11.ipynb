{
 "cells": [
  {
   "cell_type": "code",
   "execution_count": null,
   "metadata": {},
   "outputs": [],
   "source": [
    "''' \n",
    "1. Write a Python program to find words which are greater than given length k?\n",
    "2. Write a Python program for removing i-th character from a string?\n",
    "3. Write a Python program to split and join a string?\n",
    "4. Write a Python to check if a given string is binary string or not?\n",
    "5. Write a Python program to find uncommon words from two Strings?\n",
    "6. Write a Python to find all duplicate characters in string?\n",
    "7. Write a Python Program to check if a string contains any special character?\n",
    "\n",
    "'''"
   ]
  },
  {
   "cell_type": "markdown",
   "metadata": {},
   "source": [
    "## 1. Write a Python program to find words which are greater than given length k?"
   ]
  },
  {
   "cell_type": "code",
   "execution_count": 9,
   "metadata": {},
   "outputs": [
    {
     "name": "stdout",
     "output_type": "stream",
     "text": [
      "enter the len : 5\n",
      "\n",
      "hiiii python  this is jupyter notebook \n",
      "\n",
      "python\n",
      "jupyter\n",
      "notebook\n"
     ]
    }
   ],
   "source": [
    "para = \"hiiii python  this is jupyter notebook \"\n",
    "par = para.split()\n",
    "l=int(input(\"enter the len : \"))\n",
    "print()\n",
    "print(para)\n",
    "print()\n",
    "for i in par:\n",
    "    if len(i)>l:\n",
    "        print(i)\n",
    "    \n"
   ]
  },
  {
   "cell_type": "markdown",
   "metadata": {},
   "source": [
    "## 2. Write a Python program for removing i-th character from a string?"
   ]
  },
  {
   "cell_type": "code",
   "execution_count": 18,
   "metadata": {},
   "outputs": [
    {
     "name": "stdout",
     "output_type": "stream",
     "text": [
      "enter the index u want to remove : 3\n",
      "\n",
      "the actual string is :  jupyter\n",
      "\n",
      "after removing the specific character ,the string is :  jupter\n"
     ]
    }
   ],
   "source": [
    "l=int(input(\"enter the index u want to remove : \"))\n",
    "s=\"jupyter\"\n",
    "ss=\"\"\n",
    "for i in range(len(s)):\n",
    "    if i==l:\n",
    "        continue\n",
    "    else:\n",
    "        ss+=s[i]\n",
    "print()\n",
    "print(\"the actual string is : \",s)\n",
    "print()\n",
    "print(\"after removing the specific character ,the string is : \",ss)\n"
   ]
  },
  {
   "cell_type": "markdown",
   "metadata": {},
   "source": [
    "## 3. Write a Python program to split and join a string?"
   ]
  },
  {
   "cell_type": "code",
   "execution_count": 28,
   "metadata": {},
   "outputs": [
    {
     "name": "stdout",
     "output_type": "stream",
     "text": [
      "enter the string : hiiii python  this is jupyter notebook \n",
      "splitting :  ['hiiii', 'python', 'this', 'is', 'jupyter', 'notebook']\n",
      "joining :   hiiii python this is jupyter notebook \n"
     ]
    }
   ],
   "source": [
    "para = input(\"enter the string : \")\n",
    "par=para.split()\n",
    "print(\"splitting : \",par)\n",
    "ss=\" \"\n",
    "for i in par:\n",
    "    ss+=i+\" \"\n",
    "print(\"joining : \",ss)    "
   ]
  },
  {
   "cell_type": "markdown",
   "metadata": {},
   "source": [
    "## 4. Write a Python to check if a given string is binary string or not?"
   ]
  },
  {
   "cell_type": "code",
   "execution_count": 17,
   "metadata": {},
   "outputs": [
    {
     "name": "stdout",
     "output_type": "stream",
     "text": [
      "enter the string : 10010110\n"
     ]
    },
    {
     "data": {
      "text/plain": [
       "'it is the binary number '"
      ]
     },
     "execution_count": 17,
     "metadata": {},
     "output_type": "execute_result"
    }
   ],
   "source": [
    "def binary(n):\n",
    "    bin=['0','1']\n",
    "    c=0\n",
    "    for i in num:\n",
    "        if i in bin:\n",
    "            c+=1\n",
    "        else:\n",
    "            break\n",
    "    if c==len(n):\n",
    "        return \"it is the binary number \"\n",
    "    else :\n",
    "        return \" not a binary number\"\n",
    "\n",
    "num =input(\"enter the string : \")   \n",
    "binary(num)\n",
    "\n"
   ]
  },
  {
   "cell_type": "markdown",
   "metadata": {},
   "source": [
    "## 5. Write a Python program to find uncommon words from two Strings?"
   ]
  },
  {
   "cell_type": "code",
   "execution_count": 10,
   "metadata": {},
   "outputs": [
    {
     "name": "stdout",
     "output_type": "stream",
     "text": [
      "the uncommon words are  cc ff aa dd \n"
     ]
    }
   ],
   "source": [
    "a = \"bb ee cc ff\"\n",
    "b = \"aa bb dd ee\"\n",
    "l1=a.split()\n",
    "l2=b.split()\n",
    "s=\"\"\n",
    "for i in l1:\n",
    "    if i not in l2:\n",
    "        s+=i+\" \"\n",
    "for j in l2:\n",
    "    if j not in l1:\n",
    "        s+=j+\" \" \n",
    "print(\"the uncommon words are \",s)\n",
    "        \n",
    "        "
   ]
  },
  {
   "cell_type": "markdown",
   "metadata": {},
   "source": [
    "## 6. Write a Python to find all duplicate characters in string?"
   ]
  },
  {
   "cell_type": "code",
   "execution_count": 20,
   "metadata": {},
   "outputs": [
    {
     "name": "stdout",
     "output_type": "stream",
     "text": [
      "enter a string : praatyupssha\n",
      "duplicate letters are  ['a', 'p', 's']\n"
     ]
    }
   ],
   "source": [
    "par=input(\"enter a string : \")\n",
    "c=[]\n",
    "d=[]\n",
    "for i in par:\n",
    "    if i in d :\n",
    "        if i in c :\n",
    "            pass\n",
    "        else :\n",
    "            c.append(i)\n",
    "    else :\n",
    "        d.append(i)\n",
    "\n",
    "print(\"duplicate letters are \",c)\n",
    "    "
   ]
  },
  {
   "cell_type": "markdown",
   "metadata": {},
   "source": [
    "## 7. Write a Python Program to check if a string contains any special character?"
   ]
  },
  {
   "cell_type": "code",
   "execution_count": 39,
   "metadata": {},
   "outputs": [
    {
     "name": "stdout",
     "output_type": "stream",
     "text": [
      "enter a string : prat@yus!ha\n",
      "\n",
      " yes the string contains special character  @\n",
      "\n",
      " yes the string contains special character  !\n"
     ]
    }
   ],
   "source": [
    "par=input(\"enter a string : \")\n",
    "s=[]\n",
    "for i in par :\n",
    "    if i in '[@_!#$%^&*()<>?/\\|}{~:]':\n",
    "             print(\"\\n yes the string contains special character \",i)\n",
    "             \n",
    "    else:\n",
    "             continue\n",
    "             "
   ]
  },
  {
   "cell_type": "code",
   "execution_count": null,
   "metadata": {},
   "outputs": [],
   "source": []
  }
 ],
 "metadata": {
  "kernelspec": {
   "display_name": "Python [conda env:new_python_3.7]",
   "language": "python",
   "name": "conda-env-new_python_3.7-py"
  },
  "language_info": {
   "codemirror_mode": {
    "name": "ipython",
    "version": 3
   },
   "file_extension": ".py",
   "mimetype": "text/x-python",
   "name": "python",
   "nbconvert_exporter": "python",
   "pygments_lexer": "ipython3",
   "version": "3.7.11"
  }
 },
 "nbformat": 4,
 "nbformat_minor": 2
}
