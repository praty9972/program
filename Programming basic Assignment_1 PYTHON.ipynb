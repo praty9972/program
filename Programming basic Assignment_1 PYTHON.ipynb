{
 "cells": [
  {
   "cell_type": "markdown",
   "metadata": {},
   "source": [
    "# Programming Basic Assignment_1 SOLUTION"
   ]
  },
  {
   "cell_type": "code",
   "execution_count": 4,
   "metadata": {},
   "outputs": [
    {
     "name": "stdout",
     "output_type": "stream",
     "text": [
      "Hello Python\n"
     ]
    }
   ],
   "source": [
    "###  1.Write a Python program to print \"Hello Python\"?\n",
    "\n",
    "print(\"Hello Python\")"
   ]
  },
  {
   "cell_type": "code",
   "execution_count": 9,
   "metadata": {},
   "outputs": [
    {
     "name": "stdout",
     "output_type": "stream",
     "text": [
      "enter first number 10\n",
      "enter second number 5\n",
      "the addition of 10 and 5 is 15\n",
      "the division of 10 and 5 is 2.0\n",
      "the division of 5 and 10 is 0.5\n"
     ]
    }
   ],
   "source": [
    "### 2.Write a Python program to do arithmetical operations addition and division.?\n",
    "\n",
    "a = int(input(\"enter first number \"))\n",
    "b = int(input(\"enter second number \"))\n",
    "c = a+b #addition\n",
    "print(\"the addition of {first} and {second} is {result}\". format(first=a,second=b,result=c))\n",
    "d = a/b\n",
    "print(\"the division of {first} and {second} is {result}\". format(first=a,second=b,result=d))\n",
    "e = b/a\n",
    "print(\"the division of {second} and {first} is {result}\". format(first=a,second=b,result=e))"
   ]
  },
  {
   "cell_type": "code",
   "execution_count": 11,
   "metadata": {},
   "outputs": [
    {
     "name": "stdout",
     "output_type": "stream",
     "text": [
      "enter the base of the triangle3\n",
      "enter the height of the triangle4\n",
      "area of the triangle is 6.0\n"
     ]
    },
    {
     "data": {
      "text/plain": [
       "int"
      ]
     },
     "execution_count": 11,
     "metadata": {},
     "output_type": "execute_result"
    }
   ],
   "source": [
    "## 3.Write a Python program to find the area of a triangle?\n",
    "\n",
    "base = int(input(\"enter the base of the triangle\"))\n",
    "height = int(input(\"enter the height of the triangle\"))\n",
    "area = 0.5*base*height\n",
    "print(\"area of the triangle is {AREA}\".format(AREA=area))\n",
    "type(a)"
   ]
  },
  {
   "cell_type": "code",
   "execution_count": 13,
   "metadata": {},
   "outputs": [
    {
     "name": "stdout",
     "output_type": "stream",
     "text": [
      "enter first number 10\n",
      "enter second number 45\n",
      "before swapping numbers are 10 45\n",
      "after swapping numbers are 45 10\n"
     ]
    }
   ],
   "source": [
    "## 4.Write a Python program to swap two variables?\n",
    "\n",
    "\n",
    "a = int(input(\"enter first number \"))\n",
    "b = int(input(\"enter second number \"))\n",
    "print(\"before swapping numbers are {} {}\".format(a,b))\n",
    "c = a # using an another variable\n",
    "a = b\n",
    "b = c\n",
    "print(\"after swapping numbers are {} {}\".format(a,b))"
   ]
  },
  {
   "cell_type": "code",
   "execution_count": 18,
   "metadata": {},
   "outputs": [
    {
     "data": {
      "text/plain": [
       "89"
      ]
     },
     "execution_count": 18,
     "metadata": {},
     "output_type": "execute_result"
    }
   ],
   "source": [
    "## 5. Write a Python program to generate a random number?\n",
    "\n",
    "import random as r\n",
    "r. randrange(0,100) # selecting a random number between 0 and 100"
   ]
  },
  {
   "cell_type": "code",
   "execution_count": 19,
   "metadata": {},
   "outputs": [
    {
     "data": {
      "text/plain": [
       "0.8911254835672315"
      ]
     },
     "execution_count": 19,
     "metadata": {},
     "output_type": "execute_result"
    }
   ],
   "source": [
    "r.random() # it gives a random float number which ranges between 0 and 1 "
   ]
  },
  {
   "cell_type": "code",
   "execution_count": null,
   "metadata": {},
   "outputs": [],
   "source": []
  }
 ],
 "metadata": {
  "kernelspec": {
   "display_name": "Python 3",
   "language": "python",
   "name": "python3"
  },
  "language_info": {
   "codemirror_mode": {
    "name": "ipython",
    "version": 3
   },
   "file_extension": ".py",
   "mimetype": "text/x-python",
   "name": "python",
   "nbconvert_exporter": "python",
   "pygments_lexer": "ipython3",
   "version": "3.7.3"
  }
 },
 "nbformat": 4,
 "nbformat_minor": 2
}
