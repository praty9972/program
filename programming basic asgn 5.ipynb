{
 "cells": [
  {
   "cell_type": "code",
   "execution_count": 21,
   "metadata": {},
   "outputs": [
    {
     "name": "stdout",
     "output_type": "stream",
     "text": [
      "enter the number of elements you want to calculate lcm 4\n",
      "enter the number = \n",
      "10\n",
      "enter the number = \n",
      "12\n",
      "enter the number = \n",
      "15\n",
      "enter the number = \n",
      "75\n",
      "lcm of [10, 12, 15, 75]\n"
     ]
    },
    {
     "data": {
      "text/plain": [
       "('answer :', [300])"
      ]
     },
     "execution_count": 21,
     "metadata": {},
     "output_type": "execute_result"
    }
   ],
   "source": [
    "# 1)\tWrite a Python Program to Find LCM?\n",
    "def lcm(n):\n",
    "    b=n #converted args into a list \n",
    "    k=max(b) #maximum number is stored in k\n",
    "    value=k\n",
    "    mul=[] #empty list to append the multiples of maximum value\n",
    "    final=[] #result is stored in this variable \n",
    "    while True :\n",
    "        mul.append(k)\n",
    "        for j in mul :\n",
    "            count=0\n",
    "            for x in range(len(b)):\n",
    "                if j%b[x]==0:\n",
    "                    count=count+1\n",
    "                    if count==len(b):\n",
    "                        final.append(j)\n",
    "                        print(\"lcm of {}\".format(a))\n",
    "                        return \"answer :\",final\n",
    "                else:\n",
    "                    break\n",
    "        k=k+value\n",
    "n=int(input(\"enter the number of elements you want to calculate lcm \"))\n",
    "a = []\n",
    "for i in range(n):\n",
    "    print(\"enter the number = \")\n",
    "    a.append(int(input()))\n",
    "    \n",
    "lcm(a)"
   ]
  },
  {
   "cell_type": "code",
   "execution_count": 22,
   "metadata": {},
   "outputs": [
    {
     "name": "stdout",
     "output_type": "stream",
     "text": [
      "enter the number = 36\n",
      "enter the number = 48\n",
      "factors of 36 is [1, 2, 3, 4, 6, 9, 12, 18, 36] \n",
      "factors of 48 is [1, 2, 3, 4, 6, 8, 12, 16, 24, 48] \n",
      "hcf of (36, 48) is 12\n"
     ]
    }
   ],
   "source": [
    "# 2.\tWrite a Python Program to Find HCF?\n",
    "\n",
    "def hcf(*args):\n",
    "    x,y=args\n",
    "    k=[] # empty list to append factors of first number \n",
    "    l=[] # empty list to append factors of second number\n",
    "    \n",
    "    for i in range(1,x+1): #finding the factors of the first number \n",
    "        if x%i==0:\n",
    "            k.append(i)\n",
    "    print(\"factors of {} is {} \".format(x,k))\n",
    "    \n",
    "    for i in range(1,y+1): #finding the factors of the second number \n",
    "        if y%i==0:\n",
    "            l.append(i)\n",
    "    print(\"factors of {} is {} \".format(y,l))\n",
    "    \n",
    "    # now checking the first common element in both the lists \"k\" and \"l\"\n",
    "    \n",
    "    value=0\n",
    "    for i in k:\n",
    "        for j in l:\n",
    "            if i==j :                \n",
    "                value=i\n",
    "            else :\n",
    "                continue\n",
    "   \n",
    "    return print(\"hcf of {} is {}\".format(args,value))\n",
    "\n",
    "num1=int(input(\"enter the number = \"))\n",
    "num2=int(input(\"enter the number = \"))\n",
    "hcf(num1,num2)"
   ]
  },
  {
   "cell_type": "code",
   "execution_count": 32,
   "metadata": {},
   "outputs": [
    {
     "name": "stdout",
     "output_type": "stream",
     "text": [
      "enter the number 42\n",
      "binary =  0b101010\n",
      "Octal =  0o52\n",
      "Hexadecimal 0x2a\n"
     ]
    }
   ],
   "source": [
    "# 3.\tWrite a Python Program to Convert Decimal to Binary, Octal and Hexadecimal?\n",
    "num=int(input(\"enter the number \"))\n",
    "print(\"binary = \",bin(num))\n",
    "print(\"Octal = \",oct(num))\n",
    "print(\"Hexadecimal\",hex(num))"
   ]
  },
  {
   "cell_type": "code",
   "execution_count": 30,
   "metadata": {},
   "outputs": [
    {
     "name": "stdout",
     "output_type": "stream",
     "text": [
      "enter a character Y\n",
      "the ASCII value of Y is 89\n"
     ]
    }
   ],
   "source": [
    "# 4.\tWrite a Python Program To Find ASCII value of a character?\n",
    "a=input(\"enter a character \")\n",
    "print(\"the ASCII value of {} is {}\".format(a,ord(a)))"
   ]
  },
  {
   "cell_type": "code",
   "execution_count": 33,
   "metadata": {},
   "outputs": [
    {
     "name": "stdout",
     "output_type": "stream",
     "text": [
      "enter add/sub/div/mul==>  add\n",
      "enter the number = 3\n",
      "enter the number = 4\n",
      "sum of number 7\n"
     ]
    }
   ],
   "source": [
    "# 5.\tWrite a Python Program to Make a Simple Calculator with 4 basic mathematical operations?\n",
    "def add(*args):\n",
    "    a=args\n",
    "    return sum(a)\n",
    "\n",
    "def sub(*args):\n",
    "    x,y=args\n",
    "    return(x-y)\n",
    "\n",
    "def div(*args):\n",
    "    x,y=args\n",
    "    return(x/y)\n",
    "\n",
    "def mul(*args):\n",
    "    x,y=args\n",
    "    return(x*y)\n",
    "\n",
    "operation=input(\"enter add/sub/div/mul==>  \")\n",
    "if operation== \"add\":\n",
    "    x=int(input(\"enter the number = \"))\n",
    "    y=int(input(\"enter the number = \"))\n",
    "    print(\"sum of number\",add(x,y))\n",
    "elif operation== \"sub\":\n",
    "    x=int(input(\"enter the number = \"))\n",
    "    y=int(input(\"enter the number = \"))\n",
    "    print(\"subtraction of numbers \",sub(x,y))\n",
    "elif operation== \"div\":\n",
    "    x=int(input(\"enter the number = \"))\n",
    "    y=int(input(\"enter the number = \"))\n",
    "    print(\"division of numbers \",div(x,y))\n",
    "elif operation== \"mul\":\n",
    "    x=int(input(\"enter the number = \"))\n",
    "    y=int(input(\"enter the number = \"))\n",
    "    print(\"multiplication of numbers \",mul(x,y))\n",
    "\n"
   ]
  },
  {
   "cell_type": "code",
   "execution_count": null,
   "metadata": {},
   "outputs": [],
   "source": []
  }
 ],
 "metadata": {
  "kernelspec": {
   "display_name": "Python 3",
   "language": "python",
   "name": "python3"
  },
  "language_info": {
   "codemirror_mode": {
    "name": "ipython",
    "version": 3
   },
   "file_extension": ".py",
   "mimetype": "text/x-python",
   "name": "python",
   "nbconvert_exporter": "python",
   "pygments_lexer": "ipython3",
   "version": "3.7.3"
  }
 },
 "nbformat": 4,
 "nbformat_minor": 2
}
