{
 "cells": [
  {
   "cell_type": "markdown",
   "metadata": {},
   "source": [
    "### Question 1:\n",
    "Write a program that calculates and prints the value according to the given formula:\n",
    "- Q = Square root of [(2 * C * D)/H]\n",
    "\n",
    "Following are the fixed values of C and H:\n",
    "C is 50. H is 30.\n",
    "\n",
    "D is the variable whose values should be input to your program in a comma-separated\n",
    "sequence.\n",
    "\n",
    "- Example\n",
    "- Let us assume the following comma separated input sequence is given to the program:\n",
    "100,150,180\n",
    "- The output of the program should be:\n",
    "18,22,24"
   ]
  },
  {
   "cell_type": "code",
   "execution_count": 87,
   "metadata": {},
   "outputs": [
    {
     "name": "stdout",
     "output_type": "stream",
     "text": [
      "enter the sequence 100,150,180\n",
      "18,22,24 "
     ]
    }
   ],
   "source": [
    "import math\n",
    "num= input(\"enter the sequence \")\n",
    "sq=num.split(',')\n",
    "for i in range(len(sq)):\n",
    "    k=int(sq[i])\n",
    "    q=math.sqrt((2 * 50* k)/30)\n",
    "    if i!=len(sq)-1:\n",
    "        print(round(q),end=\",\")\n",
    "    else:\n",
    "        print(round(q),end=\" \")\n",
    "    "
   ]
  },
  {
   "cell_type": "markdown",
   "metadata": {},
   "source": [
    "## Question 2:\n",
    "Write a program which takes 2 digits, X,Y as input and generates a 2-dimensional array. The\n",
    "element value in the i-th row and j-th column of the array should be i*j.\n",
    "Note: i=0,1.., X-1; j=0,1,¡Y-1.\n",
    "\n",
    "### Example\n",
    "Suppose the following inputs are given to the program:\n",
    "3,5\n",
    "\n",
    "Then, the output of the program should be:\n",
    "[[0, 0, 0, 0, 0], [0, 1, 2, 3, 4], [0, 2, 4, 6, 8]]"
   ]
  },
  {
   "cell_type": "code",
   "execution_count": 81,
   "metadata": {},
   "outputs": [
    {
     "name": "stdout",
     "output_type": "stream",
     "text": [
      "enter the number of rows : 3\n",
      "enter the number of cols : 5\n",
      "[[0, 0, 0, 0, 0], [0, 1, 2, 3, 4], [0, 2, 4, 6, 8]]\n"
     ]
    }
   ],
   "source": [
    "rows=int(input(\"enter the number of rows : \"))\n",
    "cols=int(input(\"enter the number of cols : \"))\n",
    "result=[]\n",
    "re=[]\n",
    "for i in range(rows):\n",
    "    for j in range(cols):\n",
    "        result.append(0)\n",
    "    re.append(result)\n",
    "    result=[]      \n",
    "\n",
    "for i in range(rows):\n",
    "    for j in range(cols):\n",
    "        re[i][j]=i*j\n",
    "print(re)\n"
   ]
  },
  {
   "cell_type": "code",
   "execution_count": null,
   "metadata": {},
   "outputs": [],
   "source": []
  },
  {
   "cell_type": "markdown",
   "metadata": {},
   "source": [
    "## Question 3:\n",
    "Write a program that accepts a comma separated sequence of words as input and prints the\n",
    "words in a comma-separated sequence after sorting them alphabetically.\n",
    "\n",
    "Suppose the following input is supplied to the program:\n",
    "- without,hello,bag,world\n",
    "\n",
    "Then, the output should be:\n",
    "- bag,hello,without,world"
   ]
  },
  {
   "cell_type": "code",
   "execution_count": 24,
   "metadata": {},
   "outputs": [
    {
     "name": "stdout",
     "output_type": "stream",
     "text": [
      "enter the sequence ::  without,hello,bag,world\n",
      "bag,hello,without,world "
     ]
    }
   ],
   "source": [
    "n= input(\"enter the sequence ::  \")\n",
    "sq=n.split(',')\n",
    "seq=sorted(sq)\n",
    "for i in range(len(seq)):\n",
    "    if i!=len(seq)-1:\n",
    "        print(seq[i],end=\",\")\n",
    "    else:\n",
    "        print(seq[i],end=\" \")"
   ]
  },
  {
   "cell_type": "code",
   "execution_count": 26,
   "metadata": {},
   "outputs": [
    {
     "name": "stdout",
     "output_type": "stream",
     "text": [
      "enter the sequence ::  without,hello,bag,world\n",
      "<class 'list'>\n",
      "bag, hello, without, world\n"
     ]
    }
   ],
   "source": [
    "n= input(\"enter the sequence ::  \")\n",
    "sq=n.split(',')\n",
    "seq=sorted(sq)\n",
    "print(type(seq))\n",
    "print((', ').join(seq))"
   ]
  },
  {
   "cell_type": "markdown",
   "metadata": {},
   "source": [
    "## Question 4:\n",
    "Write a program that accepts a sequence of whitespace separated words as input and \n",
    "prints the words after removing all duplicate words and sorting them alphanumerically.\n",
    "\n",
    "Suppose the following input is supplied to the program:\n",
    "hello world and practice makes perfect and hello world again\n",
    "\n",
    "Then, the output should be:\n",
    "again and hello makes perfect practice world"
   ]
  },
  {
   "cell_type": "code",
   "execution_count": 39,
   "metadata": {},
   "outputs": [
    {
     "name": "stdout",
     "output_type": "stream",
     "text": [
      "enter the sequence ::  hello world and practice makes perfect and hello world again\n",
      "\n",
      "the output is : \n",
      "again and hello makes perfect practice world "
     ]
    }
   ],
   "source": [
    "def dup(n):\n",
    "    l=[]\n",
    "    s=''\n",
    "    for i in sq:\n",
    "        if i in l:\n",
    "            pass\n",
    "        else:\n",
    "            l.append(i)\n",
    "            \n",
    "    return sorted(l)\n",
    "n= input(\"enter the sequence ::  \")\n",
    "sq=n.split(' ')\n",
    "final=dup(sq)\n",
    "print()\n",
    "print(\"the output is : \")\n",
    "for i in final:\n",
    "    print(i,end=\" \")\n",
    "\n",
    "    "
   ]
  },
  {
   "cell_type": "markdown",
   "metadata": {},
   "source": [
    "## Question 5:\n",
    "Write a program that accepts a sentence and calculate the number of letters and digits.\n",
    "\n",
    "Suppose the following input is supplied to the program:\n",
    "hello world! 123\n",
    "\n",
    "Then, the output should be:\n",
    "LETTERS 10\n",
    "\n",
    "DIGITS 3"
   ]
  },
  {
   "cell_type": "code",
   "execution_count": 53,
   "metadata": {},
   "outputs": [
    {
     "name": "stdout",
     "output_type": "stream",
     "text": [
      "enter the sequence ::  hello world! 123\n",
      "letters =  10 \n",
      " digits =  3\n"
     ]
    }
   ],
   "source": [
    "import string \n",
    "n= input(\"enter the sequence ::  \")\n",
    "l=0\n",
    "d=0\n",
    "for i in n :\n",
    "    if i in string.ascii_letters:\n",
    "        l=l+1\n",
    "    elif i.isdigit():\n",
    "            d=d+1\n",
    "    else:\n",
    "        pass\n",
    "print(\"letters = \",l,\"\\n\",\"digits = \",d)\n",
    "    "
   ]
  },
  {
   "cell_type": "markdown",
   "metadata": {},
   "source": [
    "## Question 6:\n",
    "A website requires the users to input username and password to register. Write a program to\n",
    "check the validity of password input by users.\n",
    "Following are the criteria for checking the password:\n",
    "1. At least 1 letter between [a-z]\n",
    "2. At least 1 number between [0-9]\n",
    "1. At least 1 letter between [A-Z]\n",
    "3. At least 1 character from [$#@]\n",
    "4. Minimum length of transaction password: 6\n",
    "5. Maximum length of transaction password: 12\n",
    "\n",
    "Your program should accept a sequence of comma separated passwords and will check them\n",
    "according to the above criteria. \n",
    "\n",
    "Passwords that match the criteria are to be printed, each\n",
    "separated by a comma.\n",
    "\n",
    "\n",
    "Example: \n",
    "If the following passwords are given as input to the program:\n",
    "ABd1234@1,a F1#,2w3E*,2We3345\n",
    "\n",
    "Then, the output of the program should be:\n",
    "ABd1234@1"
   ]
  },
  {
   "cell_type": "code",
   "execution_count": 67,
   "metadata": {},
   "outputs": [
    {
     "name": "stdout",
     "output_type": "stream",
     "text": [
      "enter the password : tRP$1995\n",
      "The password is valid\n"
     ]
    }
   ],
   "source": [
    "import re \n",
    "pwd=input(\"enter the password : \")\n",
    "ptr=0\n",
    "while True:\n",
    "    if len(pwd)<6 or len(pwd)>12:\n",
    "        ptr+=1\n",
    "        break\n",
    "    elif not  re.search('[a-z]',pwd):\n",
    "        prt+=1\n",
    "        break\n",
    "    elif not  re.search('[A-Z]',pwd):\n",
    "        prt+=1\n",
    "        break\n",
    "    elif not  re.search('[0-9]',pwd):\n",
    "        prt+=1\n",
    "        break\n",
    "    elif not  re.search('[$#@]',pwd):\n",
    "        prt+=1\n",
    "        break\n",
    "    else:\n",
    "        print(\"The password is valid\")\n",
    "        break\n",
    "if ptr!=0:\n",
    "    print(\"password is invalid\")"
   ]
  },
  {
   "cell_type": "code",
   "execution_count": null,
   "metadata": {},
   "outputs": [],
   "source": []
  }
 ],
 "metadata": {
  "kernelspec": {
   "display_name": "Python [conda env:new_python_3.7]",
   "language": "python",
   "name": "conda-env-new_python_3.7-py"
  },
  "language_info": {
   "codemirror_mode": {
    "name": "ipython",
    "version": 3
   },
   "file_extension": ".py",
   "mimetype": "text/x-python",
   "name": "python",
   "nbconvert_exporter": "python",
   "pygments_lexer": "ipython3",
   "version": "3.7.11"
  }
 },
 "nbformat": 4,
 "nbformat_minor": 2
}
